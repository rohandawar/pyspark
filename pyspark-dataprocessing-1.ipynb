{
 "cells": [
  {
   "cell_type": "code",
   "execution_count": 1,
   "id": "c5f1ef7b",
   "metadata": {
    "_cell_guid": "b1076dfc-b9ad-4769-8c92-a6c4dae69d19",
    "_uuid": "8f2839f25d086af736a60e9eeb907d3b93b6e0e5",
    "execution": {
     "iopub.execute_input": "2022-04-04T07:42:47.439208Z",
     "iopub.status.busy": "2022-04-04T07:42:47.437362Z",
     "iopub.status.idle": "2022-04-04T07:42:47.457664Z",
     "shell.execute_reply": "2022-04-04T07:42:47.458590Z",
     "shell.execute_reply.started": "2022-04-04T06:06:59.496804Z"
    },
    "papermill": {
     "duration": 0.044856,
     "end_time": "2022-04-04T07:42:47.459002",
     "exception": false,
     "start_time": "2022-04-04T07:42:47.414146",
     "status": "completed"
    },
    "tags": []
   },
   "outputs": [
    {
     "name": "stdout",
     "output_type": "stream",
     "text": [
      "/kaggle/input/pyspark-sample-dataset/sample_data.csv\n"
     ]
    }
   ],
   "source": [
    "# This Python 3 environment comes with many helpful analytics libraries installed\n",
    "# It is defined by the kaggle/python Docker image: https://github.com/kaggle/docker-python\n",
    "# For example, here's several helpful packages to load\n",
    "\n",
    "import numpy as np # linear algebra\n",
    "import pandas as pd # data processing, CSV file I/O (e.g. pd.read_csv)\n",
    "\n",
    "# Input data files are available in the read-only \"../input/\" directory\n",
    "# For example, running this (by clicking run or pressing Shift+Enter) will list all files under the input directory\n",
    "\n",
    "import os\n",
    "for dirname, _, filenames in os.walk('/kaggle/input'):\n",
    "    for filename in filenames:\n",
    "        print(os.path.join(dirname, filename))\n",
    "\n",
    "# You can write up to 20GB to the current directory (/kaggle/working/) that gets preserved as output when you create a version using \"Save & Run All\" \n",
    "# You can also write temporary files to /kaggle/temp/, but they won't be saved outside of the current session"
   ]
  },
  {
   "cell_type": "code",
   "execution_count": 2,
   "id": "0cdd7484",
   "metadata": {
    "execution": {
     "iopub.execute_input": "2022-04-04T07:42:47.500352Z",
     "iopub.status.busy": "2022-04-04T07:42:47.499297Z",
     "iopub.status.idle": "2022-04-04T07:43:42.698446Z",
     "shell.execute_reply": "2022-04-04T07:43:42.699280Z",
     "shell.execute_reply.started": "2022-04-04T06:09:20.669641Z"
    },
    "papermill": {
     "duration": 55.221087,
     "end_time": "2022-04-04T07:43:42.699565",
     "exception": false,
     "start_time": "2022-04-04T07:42:47.478478",
     "status": "completed"
    },
    "tags": []
   },
   "outputs": [
    {
     "name": "stdout",
     "output_type": "stream",
     "text": [
      "Collecting findspark\r\n",
      "  Downloading findspark-2.0.1-py2.py3-none-any.whl (4.4 kB)\r\n",
      "Installing collected packages: findspark\r\n",
      "Successfully installed findspark-2.0.1\r\n",
      "\u001b[33mWARNING: Running pip as the 'root' user can result in broken permissions and conflicting behaviour with the system package manager. It is recommended to use a virtual environment instead: https://pip.pypa.io/warnings/venv\u001b[0m\r\n",
      "Collecting pyspark\r\n",
      "  Downloading pyspark-3.2.1.tar.gz (281.4 MB)\r\n",
      "     |████████████████████████████████| 281.4 MB 35 kB/s              \r\n",
      "\u001b[?25h  Preparing metadata (setup.py) ... \u001b[?25l-\b \b\\\b \bdone\r\n",
      "\u001b[?25hCollecting py4j==0.10.9.3\r\n",
      "  Downloading py4j-0.10.9.3-py2.py3-none-any.whl (198 kB)\r\n",
      "     |████████████████████████████████| 198 kB 38.2 MB/s            \r\n",
      "\u001b[?25hBuilding wheels for collected packages: pyspark\r\n",
      "  Building wheel for pyspark (setup.py) ... \u001b[?25l-\b \b\\\b \b|\b \b/\b \b-\b \b\\\b \b|\b \b/\b \b-\b \b\\\b \b|\b \b/\b \b-\b \b\\\b \b|\b \b/\b \b-\b \b\\\b \b|\b \b/\b \b-\b \b\\\b \b|\b \b/\b \b-\b \b\\\b \b|\b \b/\b \b-\b \b\\\b \b|\b \b/\b \b-\b \b\\\b \b|\b \b/\b \b-\b \b\\\b \b|\b \b/\b \b-\b \b\\\b \b|\b \b/\b \b-\b \b\\\b \b|\b \b/\b \b-\b \b\\\b \b|\b \b/\b \b-\b \b\\\b \b|\b \b/\b \b-\b \bdone\r\n",
      "\u001b[?25h  Created wheel for pyspark: filename=pyspark-3.2.1-py2.py3-none-any.whl size=281853642 sha256=2d3405ff9f90b0a1a7dce471e575bd5b519c3a68484f21b298d7b901fae47693\r\n",
      "  Stored in directory: /root/.cache/pip/wheels/9f/f5/07/7cd8017084dce4e93e84e92efd1e1d5334db05f2e83bcef74f\r\n",
      "Successfully built pyspark\r\n",
      "Installing collected packages: py4j, pyspark\r\n",
      "  Attempting uninstall: py4j\r\n",
      "    Found existing installation: py4j 0.10.9.4\r\n",
      "    Uninstalling py4j-0.10.9.4:\r\n",
      "      Successfully uninstalled py4j-0.10.9.4\r\n",
      "Successfully installed py4j-0.10.9.3 pyspark-3.2.1\r\n",
      "\u001b[33mWARNING: Running pip as the 'root' user can result in broken permissions and conflicting behaviour with the system package manager. It is recommended to use a virtual environment instead: https://pip.pypa.io/warnings/venv\u001b[0m\r\n"
     ]
    }
   ],
   "source": [
    "!pip install findspark\n",
    "!pip install pyspark"
   ]
  },
  {
   "cell_type": "code",
   "execution_count": 3,
   "id": "2df34dd0",
   "metadata": {
    "execution": {
     "iopub.execute_input": "2022-04-04T07:43:43.051705Z",
     "iopub.status.busy": "2022-04-04T07:43:43.050693Z",
     "iopub.status.idle": "2022-04-04T07:43:43.113147Z",
     "shell.execute_reply": "2022-04-04T07:43:43.112537Z",
     "shell.execute_reply.started": "2022-04-04T06:10:38.400541Z"
    },
    "papermill": {
     "duration": 0.227563,
     "end_time": "2022-04-04T07:43:43.113295",
     "exception": false,
     "start_time": "2022-04-04T07:43:42.885732",
     "status": "completed"
    },
    "tags": []
   },
   "outputs": [],
   "source": [
    "import findspark\n",
    "findspark.init()\n",
    "import pyspark"
   ]
  },
  {
   "cell_type": "code",
   "execution_count": 4,
   "id": "f83a0534",
   "metadata": {
    "execution": {
     "iopub.execute_input": "2022-04-04T07:43:43.433974Z",
     "iopub.status.busy": "2022-04-04T07:43:43.433280Z",
     "iopub.status.idle": "2022-04-04T07:43:49.639507Z",
     "shell.execute_reply": "2022-04-04T07:43:49.637808Z",
     "shell.execute_reply.started": "2022-04-04T06:11:32.582156Z"
    },
    "papermill": {
     "duration": 6.370429,
     "end_time": "2022-04-04T07:43:49.639813",
     "exception": false,
     "start_time": "2022-04-04T07:43:43.269384",
     "status": "completed"
    },
    "tags": []
   },
   "outputs": [
    {
     "name": "stderr",
     "output_type": "stream",
     "text": [
      "WARNING: An illegal reflective access operation has occurred\n",
      "WARNING: Illegal reflective access by org.apache.spark.unsafe.Platform (file:/opt/conda/lib/python3.7/site-packages/pyspark/jars/spark-unsafe_2.12-3.2.1.jar) to constructor java.nio.DirectByteBuffer(long,int)\n",
      "WARNING: Please consider reporting this to the maintainers of org.apache.spark.unsafe.Platform\n",
      "WARNING: Use --illegal-access=warn to enable warnings of further illegal reflective access operations\n",
      "WARNING: All illegal access operations will be denied in a future release\n",
      "Using Spark's default log4j profile: org/apache/spark/log4j-defaults.properties\n",
      "Setting default log level to \"WARN\".\n",
      "To adjust logging level use sc.setLogLevel(newLevel). For SparkR, use setLogLevel(newLevel).\n",
      "22/04/04 07:43:46 WARN NativeCodeLoader: Unable to load native-hadoop library for your platform... using builtin-java classes where applicable\n"
     ]
    }
   ],
   "source": [
    "from pyspark.sql import SparkSession\n",
    "spark = SparkSession.builder.appName('data_processing').getOrCreate()"
   ]
  },
  {
   "cell_type": "code",
   "execution_count": 5,
   "id": "5fae8370",
   "metadata": {
    "execution": {
     "iopub.execute_input": "2022-04-04T07:43:49.973893Z",
     "iopub.status.busy": "2022-04-04T07:43:49.973199Z",
     "iopub.status.idle": "2022-04-04T07:43:49.974681Z",
     "shell.execute_reply": "2022-04-04T07:43:49.975292Z",
     "shell.execute_reply.started": "2022-04-04T06:55:40.560044Z"
    },
    "papermill": {
     "duration": 0.171231,
     "end_time": "2022-04-04T07:43:49.975469",
     "exception": false,
     "start_time": "2022-04-04T07:43:49.804238",
     "status": "completed"
    },
    "tags": []
   },
   "outputs": [],
   "source": [
    "from pyspark.sql.types import StringType, DoubleType"
   ]
  },
  {
   "cell_type": "code",
   "execution_count": 6,
   "id": "d7515e6c",
   "metadata": {
    "execution": {
     "iopub.execute_input": "2022-04-04T07:43:50.299619Z",
     "iopub.status.busy": "2022-04-04T07:43:50.298944Z",
     "iopub.status.idle": "2022-04-04T07:43:56.218969Z",
     "shell.execute_reply": "2022-04-04T07:43:56.218179Z",
     "shell.execute_reply.started": "2022-04-04T06:14:06.584930Z"
    },
    "papermill": {
     "duration": 6.083417,
     "end_time": "2022-04-04T07:43:56.219205",
     "exception": false,
     "start_time": "2022-04-04T07:43:50.135788",
     "status": "completed"
    },
    "tags": []
   },
   "outputs": [
    {
     "name": "stderr",
     "output_type": "stream",
     "text": [
      "                                                                                \r"
     ]
    },
    {
     "name": "stdout",
     "output_type": "stream",
     "text": [
      "+-------+---+----------+------+-------+\n",
      "|ratings|age|experience|family| mobile|\n",
      "+-------+---+----------+------+-------+\n",
      "|      3| 32|       9.0|     3|   Vivo|\n",
      "|      3| 27|      13.0|     3|  Apple|\n",
      "|      4| 22|       2.5|     0|Samsung|\n",
      "|      4| 37|      16.5|     4|  Apple|\n",
      "|      5| 27|       9.0|     1|     MI|\n",
      "|      4| 27|       9.0|     0|   Oppo|\n",
      "|      5| 37|      23.0|     5|   Vivo|\n",
      "|      5| 37|      23.0|     5|Samsung|\n",
      "|      3| 22|       2.5|     0|  Apple|\n",
      "|      3| 27|       6.0|     0|     MI|\n",
      "|      2| 27|       6.0|     2|   Oppo|\n",
      "|      5| 27|       6.0|     2|Samsung|\n",
      "|      3| 37|      16.5|     5|  Apple|\n",
      "|      5| 27|       6.0|     0|     MI|\n",
      "|      4| 22|       6.0|     1|   Oppo|\n",
      "|      4| 37|       9.0|     2|Samsung|\n",
      "|      4| 27|       6.0|     1|  Apple|\n",
      "|      1| 37|      23.0|     5|     MI|\n",
      "|      2| 42|      23.0|     2|   Oppo|\n",
      "|      4| 37|       6.0|     0|   Vivo|\n",
      "+-------+---+----------+------+-------+\n",
      "only showing top 20 rows\n",
      "\n"
     ]
    }
   ],
   "source": [
    "df = spark.read.csv('../input/pyspark-sample-dataset', inferSchema=True, header=True)\n",
    "df.show()"
   ]
  },
  {
   "cell_type": "code",
   "execution_count": 7,
   "id": "738c3942",
   "metadata": {
    "execution": {
     "iopub.execute_input": "2022-04-04T07:43:56.556425Z",
     "iopub.status.busy": "2022-04-04T07:43:56.555370Z",
     "iopub.status.idle": "2022-04-04T07:43:56.588061Z",
     "shell.execute_reply": "2022-04-04T07:43:56.588973Z",
     "shell.execute_reply.started": "2022-04-04T06:15:15.872185Z"
    },
    "papermill": {
     "duration": 0.194709,
     "end_time": "2022-04-04T07:43:56.589249",
     "exception": false,
     "start_time": "2022-04-04T07:43:56.394540",
     "status": "completed"
    },
    "tags": []
   },
   "outputs": [
    {
     "data": {
      "text/plain": [
       "['ratings', 'age', 'experience', 'family', 'mobile']"
      ]
     },
     "execution_count": 7,
     "metadata": {},
     "output_type": "execute_result"
    }
   ],
   "source": [
    "#check the columns\n",
    "df.columns"
   ]
  },
  {
   "cell_type": "code",
   "execution_count": 8,
   "id": "2c13864c",
   "metadata": {
    "execution": {
     "iopub.execute_input": "2022-04-04T07:43:56.913784Z",
     "iopub.status.busy": "2022-04-04T07:43:56.912981Z",
     "iopub.status.idle": "2022-04-04T07:43:56.915713Z",
     "shell.execute_reply": "2022-04-04T07:43:56.916325Z",
     "shell.execute_reply.started": "2022-04-04T06:15:33.798598Z"
    },
    "papermill": {
     "duration": 0.166021,
     "end_time": "2022-04-04T07:43:56.916501",
     "exception": false,
     "start_time": "2022-04-04T07:43:56.750480",
     "status": "completed"
    },
    "tags": []
   },
   "outputs": [
    {
     "data": {
      "text/plain": [
       "5"
      ]
     },
     "execution_count": 8,
     "metadata": {},
     "output_type": "execute_result"
    }
   ],
   "source": [
    "# number of columns\n",
    "len(df.columns)"
   ]
  },
  {
   "cell_type": "code",
   "execution_count": 9,
   "id": "7331dd6e",
   "metadata": {
    "execution": {
     "iopub.execute_input": "2022-04-04T07:43:57.239022Z",
     "iopub.status.busy": "2022-04-04T07:43:57.237171Z",
     "iopub.status.idle": "2022-04-04T07:43:57.825327Z",
     "shell.execute_reply": "2022-04-04T07:43:57.826179Z",
     "shell.execute_reply.started": "2022-04-04T06:21:25.447128Z"
    },
    "papermill": {
     "duration": 0.75196,
     "end_time": "2022-04-04T07:43:57.826453",
     "exception": false,
     "start_time": "2022-04-04T07:43:57.074493",
     "status": "completed"
    },
    "tags": []
   },
   "outputs": [
    {
     "data": {
      "text/plain": [
       "33"
      ]
     },
     "execution_count": 9,
     "metadata": {},
     "output_type": "execute_result"
    }
   ],
   "source": [
    "#no of rows\n",
    "df.count()"
   ]
  },
  {
   "cell_type": "code",
   "execution_count": 10,
   "id": "c4e53873",
   "metadata": {
    "execution": {
     "iopub.execute_input": "2022-04-04T07:43:58.157234Z",
     "iopub.status.busy": "2022-04-04T07:43:58.156154Z",
     "iopub.status.idle": "2022-04-04T07:43:58.364554Z",
     "shell.execute_reply": "2022-04-04T07:43:58.363941Z",
     "shell.execute_reply.started": "2022-04-04T06:39:21.915528Z"
    },
    "papermill": {
     "duration": 0.374659,
     "end_time": "2022-04-04T07:43:58.364699",
     "exception": false,
     "start_time": "2022-04-04T07:43:57.990040",
     "status": "completed"
    },
    "tags": []
   },
   "outputs": [
    {
     "name": "stdout",
     "output_type": "stream",
     "text": [
      "The shape of the dataframe is:(33,5)\n"
     ]
    }
   ],
   "source": [
    "#since in pyspark, there is no direct method to get the shape, we use the combination of the two,\n",
    "print('The shape of the dataframe is:({},{})'.format((df.count()),(len(df.columns))))"
   ]
  },
  {
   "cell_type": "code",
   "execution_count": 11,
   "id": "09f2fb56",
   "metadata": {
    "execution": {
     "iopub.execute_input": "2022-04-04T07:43:58.688875Z",
     "iopub.status.busy": "2022-04-04T07:43:58.687558Z",
     "iopub.status.idle": "2022-04-04T07:43:58.694675Z",
     "shell.execute_reply": "2022-04-04T07:43:58.693824Z",
     "shell.execute_reply.started": "2022-04-04T06:39:49.787504Z"
    },
    "papermill": {
     "duration": 0.171019,
     "end_time": "2022-04-04T07:43:58.694870",
     "exception": false,
     "start_time": "2022-04-04T07:43:58.523851",
     "status": "completed"
    },
    "tags": []
   },
   "outputs": [
    {
     "name": "stdout",
     "output_type": "stream",
     "text": [
      "root\n",
      " |-- ratings: integer (nullable = true)\n",
      " |-- age: integer (nullable = true)\n",
      " |-- experience: double (nullable = true)\n",
      " |-- family: integer (nullable = true)\n",
      " |-- mobile: string (nullable = true)\n",
      "\n"
     ]
    }
   ],
   "source": [
    "#the datatypes of the columns are as follows:\n",
    "df.printSchema()"
   ]
  },
  {
   "cell_type": "code",
   "execution_count": 12,
   "id": "b0128a0e",
   "metadata": {
    "execution": {
     "iopub.execute_input": "2022-04-04T07:43:59.024280Z",
     "iopub.status.busy": "2022-04-04T07:43:59.023568Z",
     "iopub.status.idle": "2022-04-04T07:43:59.171318Z",
     "shell.execute_reply": "2022-04-04T07:43:59.169454Z",
     "shell.execute_reply.started": "2022-04-04T06:40:29.613158Z"
    },
    "papermill": {
     "duration": 0.316931,
     "end_time": "2022-04-04T07:43:59.171722",
     "exception": false,
     "start_time": "2022-04-04T07:43:58.854791",
     "status": "completed"
    },
    "tags": []
   },
   "outputs": [
    {
     "name": "stdout",
     "output_type": "stream",
     "text": [
      "+-------+---+----------+------+-------+\n",
      "|ratings|age|experience|family| mobile|\n",
      "+-------+---+----------+------+-------+\n",
      "|      3| 32|       9.0|     3|   Vivo|\n",
      "|      3| 27|      13.0|     3|  Apple|\n",
      "|      4| 22|       2.5|     0|Samsung|\n",
      "|      4| 37|      16.5|     4|  Apple|\n",
      "|      5| 27|       9.0|     1|     MI|\n",
      "+-------+---+----------+------+-------+\n",
      "only showing top 5 rows\n",
      "\n"
     ]
    }
   ],
   "source": [
    "#to display the first 5 rows\n",
    "df.show(5)"
   ]
  },
  {
   "cell_type": "code",
   "execution_count": 13,
   "id": "7a83b2d4",
   "metadata": {
    "execution": {
     "iopub.execute_input": "2022-04-04T07:43:59.504021Z",
     "iopub.status.busy": "2022-04-04T07:43:59.503029Z",
     "iopub.status.idle": "2022-04-04T07:43:59.719836Z",
     "shell.execute_reply": "2022-04-04T07:43:59.721426Z",
     "shell.execute_reply.started": "2022-04-04T06:42:04.727461Z"
    },
    "papermill": {
     "duration": 0.381621,
     "end_time": "2022-04-04T07:43:59.721804",
     "exception": false,
     "start_time": "2022-04-04T07:43:59.340183",
     "status": "completed"
    },
    "tags": []
   },
   "outputs": [
    {
     "name": "stdout",
     "output_type": "stream",
     "text": [
      "+---+-------+\n",
      "|age| mobile|\n",
      "+---+-------+\n",
      "| 32|   Vivo|\n",
      "| 27|  Apple|\n",
      "| 22|Samsung|\n",
      "| 37|  Apple|\n",
      "| 27|     MI|\n",
      "+---+-------+\n",
      "only showing top 5 rows\n",
      "\n"
     ]
    }
   ],
   "source": [
    "#lets check only the 2 columns age & mobile, see only 5 rows\n",
    "df.select('age', 'mobile').show(5)"
   ]
  },
  {
   "cell_type": "code",
   "execution_count": 14,
   "id": "6d0df4c3",
   "metadata": {
    "execution": {
     "iopub.execute_input": "2022-04-04T07:44:00.114067Z",
     "iopub.status.busy": "2022-04-04T07:44:00.112655Z",
     "iopub.status.idle": "2022-04-04T07:44:01.414146Z",
     "shell.execute_reply": "2022-04-04T07:44:01.413340Z",
     "shell.execute_reply.started": "2022-04-04T06:42:22.717891Z"
    },
    "papermill": {
     "duration": 1.468816,
     "end_time": "2022-04-04T07:44:01.414302",
     "exception": false,
     "start_time": "2022-04-04T07:43:59.945486",
     "status": "completed"
    },
    "tags": []
   },
   "outputs": [
    {
     "name": "stderr",
     "output_type": "stream",
     "text": [
      "[Stage 11:>                                                         (0 + 1) / 1]\r"
     ]
    },
    {
     "name": "stdout",
     "output_type": "stream",
     "text": [
      "+-------+------------------+------------------+------------------+------------------+------+\n",
      "|summary|           ratings|               age|        experience|            family|mobile|\n",
      "+-------+------------------+------------------+------------------+------------------+------+\n",
      "|  count|                33|                33|                33|                33|    33|\n",
      "|   mean|3.5757575757575757|30.484848484848484|10.303030303030303|1.8181818181818181|  null|\n",
      "| stddev|1.1188806636071336|  6.18527087180309| 6.770731351213326|1.8448330794164254|  null|\n",
      "|    min|                 1|                22|               2.5|                 0| Apple|\n",
      "|    max|                 5|                42|              23.0|                 5|  Vivo|\n",
      "+-------+------------------+------------------+------------------+------------------+------+\n",
      "\n"
     ]
    },
    {
     "name": "stderr",
     "output_type": "stream",
     "text": [
      "                                                                                \r"
     ]
    }
   ],
   "source": [
    "#summary stats\n",
    "df.describe().show()"
   ]
  },
  {
   "cell_type": "code",
   "execution_count": 15,
   "id": "7cc31939",
   "metadata": {
    "execution": {
     "iopub.execute_input": "2022-04-04T07:44:01.751750Z",
     "iopub.status.busy": "2022-04-04T07:44:01.750999Z",
     "iopub.status.idle": "2022-04-04T07:44:01.979834Z",
     "shell.execute_reply": "2022-04-04T07:44:01.981541Z",
     "shell.execute_reply.started": "2022-04-04T06:54:25.860316Z"
    },
    "papermill": {
     "duration": 0.402315,
     "end_time": "2022-04-04T07:44:01.982040",
     "exception": false,
     "start_time": "2022-04-04T07:44:01.579725",
     "status": "completed"
    },
    "tags": []
   },
   "outputs": [
    {
     "name": "stdout",
     "output_type": "stream",
     "text": [
      "+-------+---+----------+------+-------+------------------+\n",
      "|ratings|age|experience|family|mobile |age_after_10_years|\n",
      "+-------+---+----------+------+-------+------------------+\n",
      "|3      |32 |9.0       |3     |Vivo   |42                |\n",
      "|3      |27 |13.0      |3     |Apple  |37                |\n",
      "|4      |22 |2.5       |0     |Samsung|32                |\n",
      "|4      |37 |16.5      |4     |Apple  |47                |\n",
      "|5      |27 |9.0       |1     |MI     |37                |\n",
      "|4      |27 |9.0       |0     |Oppo   |37                |\n",
      "|5      |37 |23.0      |5     |Vivo   |47                |\n",
      "|5      |37 |23.0      |5     |Samsung|47                |\n",
      "|3      |22 |2.5       |0     |Apple  |32                |\n",
      "|3      |27 |6.0       |0     |MI     |37                |\n",
      "+-------+---+----------+------+-------+------------------+\n",
      "only showing top 10 rows\n",
      "\n"
     ]
    }
   ],
   "source": [
    "#add a new columns, which is the current column plus 10\n",
    "df = df.withColumn('age_after_10_years', (df['age']+10))\n",
    "df.show(10, False)"
   ]
  },
  {
   "cell_type": "code",
   "execution_count": 16,
   "id": "2f74b54d",
   "metadata": {
    "execution": {
     "iopub.execute_input": "2022-04-04T07:44:02.345531Z",
     "iopub.status.busy": "2022-04-04T07:44:02.344474Z",
     "iopub.status.idle": "2022-04-04T07:44:02.347180Z",
     "shell.execute_reply": "2022-04-04T07:44:02.346564Z"
    },
    "papermill": {
     "duration": 0.168692,
     "end_time": "2022-04-04T07:44:02.347327",
     "exception": false,
     "start_time": "2022-04-04T07:44:02.178635",
     "status": "completed"
    },
    "tags": []
   },
   "outputs": [],
   "source": [
    "#change the columns age dtype to double\n",
    "\n"
   ]
  }
 ],
 "metadata": {
  "kernelspec": {
   "display_name": "Python 3",
   "language": "python",
   "name": "python3"
  },
  "language_info": {
   "codemirror_mode": {
    "name": "ipython",
    "version": 3
   },
   "file_extension": ".py",
   "mimetype": "text/x-python",
   "name": "python",
   "nbconvert_exporter": "python",
   "pygments_lexer": "ipython3",
   "version": "3.7.12"
  },
  "papermill": {
   "default_parameters": {},
   "duration": 85.689662,
   "end_time": "2022-04-04T07:44:03.222144",
   "environment_variables": {},
   "exception": null,
   "input_path": "__notebook__.ipynb",
   "output_path": "__notebook__.ipynb",
   "parameters": {},
   "start_time": "2022-04-04T07:42:37.532482",
   "version": "2.3.3"
  }
 },
 "nbformat": 4,
 "nbformat_minor": 5
}
